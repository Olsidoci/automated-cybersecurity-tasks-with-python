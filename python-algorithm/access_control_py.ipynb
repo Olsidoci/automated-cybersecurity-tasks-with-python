{
  "nbformat": 4,
  "nbformat_minor": 0,
  "metadata": {
    "colab": {
      "provenance": [],
      "authorship_tag": "ABX9TyPbzAdkLfK09FAmg1hhdELn",
      "include_colab_link": true
    },
    "kernelspec": {
      "name": "python3",
      "display_name": "Python 3"
    },
    "language_info": {
      "name": "python"
    }
  },
  "cells": [
    {
      "cell_type": "markdown",
      "metadata": {
        "id": "view-in-github",
        "colab_type": "text"
      },
      "source": [
        "<a href=\"https://colab.research.google.com/github/Olsidoci/automated-cybersecurity-tasks-with-python/blob/main/python-algorithm/access_control_py.ipynb\" target=\"_parent\"><img src=\"https://colab.research.google.com/assets/colab-badge.svg\" alt=\"Open In Colab\"/></a>"
      ]
    },
    {
      "cell_type": "code",
      "execution_count": 1,
      "metadata": {
        "colab": {
          "base_uri": "https://localhost:8080/"
        },
        "id": "_Xb6-NxbHppY",
        "outputId": "d5259784-f3e6-4a84-e174-6e530a9ae9f5"
      },
      "outputs": [
        {
          "output_type": "stream",
          "name": "stdout",
          "text": [
            "Updated allow list:\n",
            " 192.168.218.160 192.168.97.225 192.168.145.158 192.168.108.13 192.168.60.153 192.168.96.200 192.168.247.153 192.168.3.252 192.168.116.187 192.168.15.110 192.168.39.246\n"
          ]
        }
      ],
      "source": [
        "# Reset allow_list.txt for testing\n",
        "reset_ips = \"\"\"192.168.218.160 192.168.97.225 192.168.145.158\n",
        "192.168.108.13 192.168.60.153 192.168.96.200\n",
        "192.168.247.153 192.168.3.252 192.168.116.187\n",
        "192.168.15.110 192.168.39.246 192.168.25.60\n",
        "192.168.140.81 192.168.203.198\"\"\"\n",
        "\n",
        "with open(\"allow_list.txt\", \"w\") as file:\n",
        "    file.write(reset_ips)\n",
        "\n",
        "# Function to update IP access list\n",
        "def update_file(import_file, remove_list):\n",
        "    with open(import_file, \"r\") as file:\n",
        "        ip_addresses = file.read().split()\n",
        "\n",
        "    for element in ip_addresses[:]:  # Iterate over a copy to avoid issues\n",
        "        if element in remove_list:\n",
        "            ip_addresses.remove(element)\n",
        "\n",
        "    ip_addresses = \" \".join(ip_addresses)\n",
        "\n",
        "    with open(import_file, \"w\") as file:\n",
        "        file.write(ip_addresses)\n",
        "\n",
        "# Call the function with test values\n",
        "update_file(\"allow_list.txt\", [\"192.168.25.60\", \"192.168.140.81\", \"192.168.203.198\"])\n",
        "\n",
        "# Verify result\n",
        "with open(\"allow_list.txt\", \"r\") as file:\n",
        "    updated = file.read()\n",
        "print(\"Updated allow list:\\n\", updated)\n"
      ]
    }
  ]
}