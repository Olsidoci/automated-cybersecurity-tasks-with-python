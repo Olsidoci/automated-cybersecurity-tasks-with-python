{
  "nbformat": 4,
  "nbformat_minor": 0,
  "metadata": {
    "colab": {
      "provenance": [],
      "authorship_tag": "ABX9TyMc3PPlXDB7nXBqAx1zrse5",
      "include_colab_link": true
    },
    "kernelspec": {
      "name": "python3",
      "display_name": "Python 3"
    },
    "language_info": {
      "name": "python"
    }
  },
  "cells": [
    {
      "cell_type": "markdown",
      "metadata": {
        "id": "view-in-github",
        "colab_type": "text"
      },
      "source": [
        "<a href=\"https://colab.research.google.com/github/Olsidoci/automated-cybersecurity-tasks-with-python/blob/main/lab.ipynb\" target=\"_parent\"><img src=\"https://colab.research.google.com/assets/colab-badge.svg\" alt=\"Open In Colab\"/></a>"
      ]
    },
    {
      "cell_type": "code",
      "execution_count": 1,
      "metadata": {
        "colab": {
          "base_uri": "https://localhost:8080/"
        },
        "id": "0G77r6pE79gv",
        "outputId": "1cf74488-605f-40c0-ba3f-7bc8f7147331"
      },
      "outputs": [
        {
          "output_type": "stream",
          "name": "stdout",
          "text": [
            "Hello world!\n",
            "I am using Python.\n",
            "I am a security analyst.\n",
            "Python is useful for security!\n",
            "Hello world!\n",
            "I am using Python.\n",
            "I am a security analyst.\n",
            "Python is useful for security!\n"
          ]
        }
      ],
      "source": [
        "# This cell displays \"Hello world!\"\n",
        "print(\"Hello world!\")\n",
        "\n",
        "# This cell displays \"I am using Python.\"\n",
        "print(\"I am using Python.\")\n",
        "\n",
        "# This cell displays \"I am a security analyst.\"\n",
        "print(\"I am a security analyst.\")\n",
        "\n",
        "# This cell displays \"Python is useful for security!\"\n",
        "print(\"Python is useful for security!\")\n",
        "\n",
        "# This cell displays all the statements written so far\n",
        "print(\"Hello world!\")\n",
        "print(\"I am using Python.\")\n",
        "print(\"I am a security analyst.\")\n",
        "print(\"Python is useful for security!\")\n"
      ]
    },
    {
      "cell_type": "code",
      "source": [],
      "metadata": {
        "id": "x9uSKGkm7_At"
      },
      "execution_count": 1,
      "outputs": []
    }
  ]
}
